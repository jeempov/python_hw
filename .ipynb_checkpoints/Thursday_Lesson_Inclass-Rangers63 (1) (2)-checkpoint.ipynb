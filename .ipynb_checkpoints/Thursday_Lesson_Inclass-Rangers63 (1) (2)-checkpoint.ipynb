{
 "cells": [
  {
   "cell_type": "markdown",
   "metadata": {
    "id": "CxzhfzhHmX26"
   },
   "source": [
    "# Object-Oriented-Programming (OOP)"
   ]
  },
  {
   "cell_type": "markdown",
   "metadata": {
    "id": "IraQR7GhmX27"
   },
   "source": [
    "## Tasks Today:\n",
    "\n",
    "   \n",
    "\n",
    "1) <b>Creating a Class (Initializing/Declaring)</b> <br>\n",
    "2) <b>Using a Class (Instantiating)</b> <br>\n",
    " &nbsp;&nbsp;&nbsp;&nbsp; a) Creating One Instance <br>\n",
    " &nbsp;&nbsp;&nbsp;&nbsp; b) Creating Multiple Instances <br>\n",
    " &nbsp;&nbsp;&nbsp;&nbsp; c) In-Class Exercise #1 - Create a Class 'Car' and instantiate three different makes of cars <br>\n",
    "3) <b>The \\__init\\__() Method</b> <br>\n",
    " &nbsp;&nbsp;&nbsp;&nbsp; a) The 'self' Attribute <br>\n",
    "4) <b>Class Attributes</b> <br>\n",
    " &nbsp;&nbsp;&nbsp;&nbsp; a) Initializing Attributes <br>\n",
    " &nbsp;&nbsp;&nbsp;&nbsp; b) Setting an Attribute Outside of the \\__init\\__() Method <br>\n",
    " &nbsp;&nbsp;&nbsp;&nbsp; c) Setting Defaults for Attributes <br>\n",
    " &nbsp;&nbsp;&nbsp;&nbsp; d) Accessing Class Attributes <br>\n",
    " &nbsp;&nbsp;&nbsp;&nbsp; e) Changing Class Attributes <br>\n",
    " &nbsp;&nbsp;&nbsp;&nbsp; f) In-Class Exercise #2 - Add a color and wheels attribute to your 'Car' class <br>\n",
    "5) <b>Class Methods</b> <br>\n",
    " &nbsp;&nbsp;&nbsp;&nbsp; a) Creating <br>\n",
    " &nbsp;&nbsp;&nbsp;&nbsp; b) Calling <br>\n",
    " &nbsp;&nbsp;&nbsp;&nbsp; c) Modifying an Attribute's Value Through a Method <br>\n",
    " &nbsp;&nbsp;&nbsp;&nbsp; d) Incrementing an Attribute's Value Through a Method <br>\n",
    " &nbsp;&nbsp;&nbsp;&nbsp; e) In-Class Exercise #3 - Add a method that prints the cars color and wheel number, then call them <br>\n",
    "6) <b>Inheritance</b> <br>\n",
    " &nbsp;&nbsp;&nbsp;&nbsp; a) Syntax for Inheriting from a Parent Class <br>\n",
    " &nbsp;&nbsp;&nbsp;&nbsp; b) The \\__init\\__() Method for a Child Class (super()) <br>\n",
    " &nbsp;&nbsp;&nbsp;&nbsp; c) Defining Attributes and Methods for the Child Class <br>\n",
    " &nbsp;&nbsp;&nbsp;&nbsp; d) Method Overriding <br>\n",
    " &nbsp;&nbsp;&nbsp;&nbsp; e) In-Class Exercise #4 - Create a class 'Ford' that inherits from 'Car' class and initialize it as a Blue Ford Explorer with 4 wheels using the super() method <br>\n",
    "7) <b>Classes as Attributes</b> <br>\n",
    "8) <b>Exercises</b> <br>\n",
    " &nbsp;&nbsp;&nbsp;&nbsp; a) Exercise #1 - Turn the shopping cart program from yesterday into an object-oriented program <br>"
   ]
  },
  {
   "cell_type": "markdown",
   "metadata": {
    "id": "ckTms8pVmX28"
   },
   "source": [
    "## Creating a Class (Initializing/Declaring)\n",
    "<p>When creating a class, function, or even a variable you are initializing that object. Initializing and Declaring occur at the same time in Python, whereas in lower level languages you have to declare an object before initializing it. This is the first step in the process of using a class.</p>"
   ]
  },
  {
   "cell_type": "code",
   "execution_count": null,
   "metadata": {
    "id": "pL1uuxrzmX28"
   },
   "outputs": [],
   "source": [
    "class Car():\n",
    "    wheels = 4\n",
    "    color = 'blue'\n",
    "\n",
    "# class is like a blueprint or prototype for objects"
   ]
  },
  {
   "cell_type": "markdown",
   "metadata": {
    "id": "VG9zI1_nmX29"
   },
   "source": [
    "## Using a Class (Instantiating)\n",
    "<p>The process of creating a class is called <i>Instantiating</i>. Each time you create a variable of that type of class, it is referred to as an <i>Instance</i> of that class. This is the second step in the process of using a class.</p>"
   ]
  },
  {
   "cell_type": "markdown",
   "metadata": {
    "id": "62fsmo2umX29"
   },
   "source": [
    "##### Creating One Instance"
   ]
  },
  {
   "cell_type": "code",
   "execution_count": null,
   "metadata": {
    "colab": {
     "base_uri": "https://localhost:8080/"
    },
    "executionInfo": {
     "elapsed": 156,
     "status": "ok",
     "timestamp": 1692798060902,
     "user": {
      "displayName": "Jim Povolo",
      "userId": "13260215878002411670"
     },
     "user_tz": 240
    },
    "id": "aUHCVRwHmX29",
    "outputId": "716ed669-e813-4668-83e4-df8e6490331e"
   },
   "outputs": [
    {
     "name": "stdout",
     "output_type": "stream",
     "text": [
      "4\n"
     ]
    }
   ],
   "source": [
    "ford = Car()\n",
    "print(ford.wheels)"
   ]
  },
  {
   "cell_type": "markdown",
   "metadata": {
    "id": "_Ouzn6uEmX29"
   },
   "source": [
    "##### Creating Multiple Instances"
   ]
  },
  {
   "cell_type": "code",
   "execution_count": null,
   "metadata": {
    "colab": {
     "base_uri": "https://localhost:8080/"
    },
    "executionInfo": {
     "elapsed": 118,
     "status": "ok",
     "timestamp": 1692798187092,
     "user": {
      "displayName": "Jim Povolo",
      "userId": "13260215878002411670"
     },
     "user_tz": 240
    },
    "id": "soaWKUE8mX29",
    "outputId": "7d93fc34-0241-4840-e888-f703f9d313e7"
   },
   "outputs": [
    {
     "name": "stdout",
     "output_type": "stream",
     "text": [
      "<class 'str'>\n"
     ]
    }
   ],
   "source": [
    "chevy = Car()\n",
    "honda = Car()\n",
    "porsche = Car()\n",
    "\n",
    "print(type(porsche.color))\n",
    "print(porsche.bumper)"
   ]
  },
  {
   "cell_type": "markdown",
   "metadata": {
    "id": "WxXRZF7hmX29"
   },
   "source": [
    "##### In-Class Exercise #1 - Create a Class 'Car' and Instantiate three different makes of cars"
   ]
  },
  {
   "cell_type": "code",
   "execution_count": null,
   "metadata": {
    "id": "H2moOHBDmX2-"
   },
   "outputs": [],
   "source": [
    "class Car():\n",
    "    wheels = 5\n",
    "    color = 'light urple'\n",
    "    cupholders = 11\n",
    "    stereo = 'bose'\n",
    "    top_speed = 250\n",
    "    mpg = 40\n",
    "\n",
    "hyundai = Car()\n",
    "toyota = Car()\n",
    "volkswagen = Car()"
   ]
  },
  {
   "cell_type": "markdown",
   "metadata": {
    "id": "BLGe2lFdmX2-"
   },
   "source": [
    "## The \\__init\\__() Method <br>\n",
    "<p>This method is used in almost every created class, and called only once upon the creation of the class instance. This method will initialize all variables needed for the object.</p>"
   ]
  },
  {
   "cell_type": "code",
   "execution_count": null,
   "metadata": {
    "colab": {
     "base_uri": "https://localhost:8080/"
    },
    "executionInfo": {
     "elapsed": 3,
     "status": "ok",
     "timestamp": 1692798911700,
     "user": {
      "displayName": "Jim Povolo",
      "userId": "13260215878002411670"
     },
     "user_tz": 240
    },
    "id": "EELOPH6XmX2-",
    "outputId": "b0cda59c-67a4-4f1c-aacd-8c34f764a026"
   },
   "outputs": [
    {
     "name": "stdout",
     "output_type": "stream",
     "text": [
      "4\n",
      "4.7L\n"
     ]
    }
   ],
   "source": [
    "# double underscores = dunder\n",
    "\n",
    "\n",
    "class Car():\n",
    "  engine = '4.7L' # constant attribute\n",
    "\n",
    "  def __init__(self, wheels, color):\n",
    "    self.wheels = wheels\n",
    "    self.color = color\n",
    "\n",
    "ford = Car(4, 'red')\n",
    "chevy = Car(6, 'black')\n",
    "\n",
    "print(ford.wheels)\n",
    "print(chevy.engine)"
   ]
  },
  {
   "cell_type": "markdown",
   "metadata": {
    "id": "bM48yjwkmX2-"
   },
   "source": [
    "##### The 'self' Attribute <br>\n",
    "<p>This attribute is required to keep track of specific instance's attributes. Without the self attribute, the program would not know how to reference or keep track of an instance's attributes.</p>"
   ]
  },
  {
   "cell_type": "code",
   "execution_count": null,
   "metadata": {
    "id": "yWn3P9eQmX2-"
   },
   "outputs": [],
   "source": [
    "# see above\n",
    "# single source of truth"
   ]
  },
  {
   "cell_type": "markdown",
   "metadata": {
    "id": "nWh8w85LmX2-"
   },
   "source": [
    "## Class Attributes <br>\n",
    "<p>While variables are inside of a class, they are referred to as attributes and not variables. When someone says 'attribute' you know they're speaking about a class. Attributes can be initialized through the init method, or outside of it.</p>"
   ]
  },
  {
   "cell_type": "markdown",
   "metadata": {
    "id": "JKhfHuZPmX2-"
   },
   "source": [
    "##### Initializing Attributes"
   ]
  },
  {
   "cell_type": "code",
   "execution_count": null,
   "metadata": {
    "id": "CcidLIgfmX2-"
   },
   "outputs": [],
   "source": [
    "# see above\n",
    "\n",
    "class Toy():\n",
    "  kind = 'car'\n",
    "\n",
    "  def __init__(self, rooftop, horn, wheels = 4):\n",
    "    self.rooftop = rooftop\n",
    "    self.horn = horn\n",
    "    self.wheels = wheels\n",
    "\n",
    "tonka_truck = Toy(1,1)\n",
    "hotwheels_car = Toy(2,3,8)"
   ]
  },
  {
   "cell_type": "markdown",
   "metadata": {
    "id": "mBmaMmAAmX2-"
   },
   "source": [
    "##### Accessing Class Attributes"
   ]
  },
  {
   "cell_type": "code",
   "execution_count": null,
   "metadata": {
    "colab": {
     "base_uri": "https://localhost:8080/"
    },
    "executionInfo": {
     "elapsed": 124,
     "status": "ok",
     "timestamp": 1692799612622,
     "user": {
      "displayName": "Jim Povolo",
      "userId": "13260215878002411670"
     },
     "user_tz": 240
    },
    "id": "2vcW0iYHmX2-",
    "outputId": "3c4f5f42-a707-4f08-ea08-ea09846b0956",
    "scrolled": true
   },
   "outputs": [
    {
     "name": "stdout",
     "output_type": "stream",
     "text": [
      "1\n",
      "8\n"
     ]
    }
   ],
   "source": [
    "# See Above\n",
    "print(tonka_truck.horn)\n",
    "print(hotwheels_car.wheels)\n",
    "\n",
    "my_daily_driver_wheels = 5\n",
    "my_daily_driver_rooftop = 'sunroof'\n",
    "my_daily_driver_horn = 1"
   ]
  },
  {
   "cell_type": "markdown",
   "metadata": {
    "id": "FL5uu3EbmX2-"
   },
   "source": [
    "##### Setting Defaults for Attributes"
   ]
  },
  {
   "cell_type": "code",
   "execution_count": 1,
   "metadata": {
    "colab": {
     "base_uri": "https://localhost:8080/"
    },
    "executionInfo": {
     "elapsed": 6,
     "status": "ok",
     "timestamp": 1692801172603,
     "user": {
      "displayName": "Jim Povolo",
      "userId": "13260215878002411670"
     },
     "user_tz": 240
    },
    "id": "SZdp2YhLmX2_",
    "outputId": "fe3e8070-8a13-4f30-df00-3160712d0446"
   },
   "outputs": [
    {
     "name": "stdout",
     "output_type": "stream",
     "text": [
      "purkle\n",
      "4\n",
      "5.4\n",
      "<__main__.Car object at 0x00000166D5CB2050>\n"
     ]
    }
   ],
   "source": [
    "class Car():\n",
    "\n",
    "  engine = '4.7L'\n",
    "\n",
    "  def __init__(self, wheels):\n",
    "    self.wheels = wheels\n",
    "    self.color = 'Blue' # cannot overwrite when initially creating a class\n",
    "\n",
    "honda = Car(4)\n",
    "honda.color = 'purkle'\n",
    "print(honda.color) #seems to allow me to overwrite it... hmmm\n",
    "print(honda.wheels)\n",
    "honda.engine = '5.4'\n",
    "print(honda.engine)\n",
    "print(honda)"
   ]
  },
  {
   "cell_type": "markdown",
   "metadata": {
    "id": "FGAV_2LumX2_"
   },
   "source": [
    "##### Changing Class Attributes <br>\n",
    "<p>Keep in mind there are global class attributes and then there are attributes only available to each class instance which won't effect other classes.</p>"
   ]
  },
  {
   "cell_type": "code",
   "execution_count": null,
   "metadata": {
    "id": "oV-R8BXymX2_"
   },
   "outputs": [],
   "source": [
    "#see above"
   ]
  },
  {
   "cell_type": "code",
   "execution_count": null,
   "metadata": {
    "id": "i1ueSb_smX2_"
   },
   "outputs": [],
   "source": []
  },
  {
   "cell_type": "markdown",
   "metadata": {
    "id": "QWTRuo26mX2_"
   },
   "source": [
    "##### In-Class Exercise #2 - Add a doors and seats attribute to your 'Car' class then print out two different instances with different doors and seats"
   ]
  },
  {
   "cell_type": "code",
   "execution_count": null,
   "metadata": {
    "colab": {
     "base_uri": "https://localhost:8080/"
    },
    "executionInfo": {
     "elapsed": 128,
     "status": "ok",
     "timestamp": 1692801130716,
     "user": {
      "displayName": "Jim Povolo",
      "userId": "13260215878002411670"
     },
     "user_tz": 240
    },
    "id": "zYlrkPKNmX2_",
    "outputId": "8ce721eb-d49d-44bf-92ae-46753b99bf32"
   },
   "outputs": [
    {
     "name": "stdout",
     "output_type": "stream",
     "text": [
      "4\n",
      "3\n"
     ]
    }
   ],
   "source": [
    "class Car():\n",
    "\n",
    "  engine = '4.7L'\n",
    "\n",
    "  def __init__(self, wheels, doors = 4, seats = 5):\n",
    "    self.wheels = wheels\n",
    "    self.color = 'Blue'\n",
    "    self.doors = 4\n",
    "    self.seats = seats\n",
    "\n",
    "ferrari = Car(8, 8, 10)\n",
    "mazda = Car(2, 2, 3)\n",
    "\n",
    "print(ferrari.doors)\n",
    "print(mazda.seats)\n"
   ]
  },
  {
   "cell_type": "markdown",
   "metadata": {
    "id": "VifitVZDmX2_"
   },
   "source": [
    "## Class Methods <br>\n",
    "<p>While inside of a class, functions are referred to as 'methods'. If you hear someone mention methods, they're speaking about classes. Methods are essentially functions, but only callable on the instances of a class.</p>"
   ]
  },
  {
   "cell_type": "markdown",
   "metadata": {
    "id": "J48FIDL0mX2_"
   },
   "source": [
    "##### Creating"
   ]
  },
  {
   "cell_type": "code",
   "execution_count": 3,
   "metadata": {
    "id": "AGzwkdyDmX2_"
   },
   "outputs": [],
   "source": [
    "class ShoppingBag():\n",
    "  '''\n",
    "    The ShoppingBag class will have handles, capacity,\n",
    "    and items to place inside.\n",
    "\n",
    "    Attributes for the class:\n",
    "    - handles: expected to be an integer\n",
    "    - capacity: expected to be an integer\n",
    "    - items: expected to be a list\n",
    "  '''\n",
    "  def __init__(self, handles, items = [], capacity=10):\n",
    "    self.handles = handles\n",
    "    self.items = items\n",
    "    self.capacity = capacity\n",
    "\n",
    "  def showShoppingBag(self):\n",
    "    if len(self.items) == 0:\n",
    "      print('You have no items')\n",
    "    else:\n",
    "      print(\"You have items in your bag!!!\")\n",
    "      for item in self.items:\n",
    "        print(item)\n",
    "\n",
    "  def showCapacity(self):\n",
    "    print(f'Your remaining capacity is: {self.capacity - len(self.items)}')\n",
    "\n",
    "  def addToShoppingBag(self): # if capacity is full, reject new items\n",
    "    if len(self.items) == self.capacity:\n",
    "      print('You have no room!')\n",
    "    else:\n",
    "      product = input('What would you like to add? ')\n",
    "      self.items.append(product)\n",
    "\n",
    "  def showHandles(self):\n",
    "    print(f'You have {self.handles} handles on your bag')\n"
   ]
  },
  {
   "cell_type": "markdown",
   "metadata": {
    "id": "qReagkAGmX2_"
   },
   "source": [
    "##### Calling"
   ]
  },
  {
   "cell_type": "code",
   "execution_count": 6,
   "metadata": {
    "id": "COihzVRJmX2_"
   },
   "outputs": [
    {
     "name": "stdout",
     "output_type": "stream",
     "text": [
      "What would you like to do?\n",
      "\n",
      "You may:\n",
      "-Add\n",
      "-Show\n",
      "-Quit\n",
      "quit\n",
      "You have no items\n",
      "Thanks for shopping!\n"
     ]
    }
   ],
   "source": [
    "# See Above\n",
    "\n",
    "wholeFoodsBag = ShoppingBag(2)\n",
    "\n",
    "def run():\n",
    "  while True:\n",
    "    response = input(\"What would you like to do?\\n\\nYou may:\\n-Add\\n-Show\\n-Quit\\n\")\n",
    "\n",
    "    if response.lower() == 'quit':\n",
    "      wholeFoodsBag.showShoppingBag()\n",
    "      print('Thanks for shopping!')\n",
    "      break\n",
    "    elif response.lower() == 'add':\n",
    "      wholeFoodsBag.addToShoppingBag()\n",
    "    elif response.lower() == 'show':\n",
    "      showChoice = input('What would you like to see: \\n- Capacity\\n- Handles\\n- Shopping Bag')\n",
    "      if showChoice.lower() == 'capacity':\n",
    "          wholeFoodsBag.showCapacity()\n",
    "      elif showChoice.lower() == 'handles':\n",
    "        wholeFoodsBag.showHandles()\n",
    "      else:\n",
    "        wholeFoodsBag.showShoppingBag()\n",
    "    else:\n",
    "      print('That is not a valid option. Please enter add, show, or quit.')\n",
    "\n",
    "run()"
   ]
  },
  {
   "cell_type": "markdown",
   "metadata": {
    "id": "tG4TEZ7SmX2_"
   },
   "source": [
    "##### Modifying an Attribute's Value Through a Method"
   ]
  },
  {
   "cell_type": "code",
   "execution_count": null,
   "metadata": {
    "id": "G85pcT2smX3A"
   },
   "outputs": [],
   "source": []
  },
  {
   "cell_type": "markdown",
   "metadata": {
    "id": "HjkiazS_mX3A"
   },
   "source": [
    "##### Incrementing an Attribute's Value Through a Method"
   ]
  },
  {
   "cell_type": "code",
   "execution_count": null,
   "metadata": {
    "id": "dG2BwtAJmX3A"
   },
   "outputs": [],
   "source": []
  },
  {
   "cell_type": "markdown",
   "metadata": {
    "id": "QFUh6TlzmX3A"
   },
   "source": [
    "##### In-Class Exercise #3 - Add a method that takes in three parameters of year, doors and seats and prints out a formatted print statement with make, model, year, seats, and doors"
   ]
  },
  {
   "cell_type": "code",
   "execution_count": null,
   "metadata": {
    "colab": {
     "base_uri": "https://localhost:8080/"
    },
    "executionInfo": {
     "elapsed": 127,
     "status": "ok",
     "timestamp": 1692807551777,
     "user": {
      "displayName": "Jim Povolo",
      "userId": "13260215878002411670"
     },
     "user_tz": 240
    },
    "id": "GmoLL3WZmX3A",
    "outputId": "2f968215-aa95-48e3-aba0-fa3e1ff69ada"
   },
   "outputs": [
    {
     "name": "stdout",
     "output_type": "stream",
     "text": [
      "This car is from 2014 and is a Mitsubishi Mirage and has 4 doors and 5 seats\n"
     ]
    }
   ],
   "source": [
    "# Create class with 2 paramters inside of the __init__ which are make and model\n",
    "\n",
    "# Inside of the Car class create a method that has 4 parameter in total (self,year,door,seats)\n",
    "\n",
    "# Output: This car is from 2019 and is a Ford Expolorer and has 4 doors and 5 seats\n",
    "\n",
    "class Car():\n",
    "  def __init__(self, make, model):\n",
    "    self.make = make\n",
    "    self.model = model\n",
    "\n",
    "  def ShowCar(self, year, door, seats):\n",
    "    print(f'This car is from {year} and is a {self.make} {self.model} and has {door} doors and {seats} seats')\n",
    "\n",
    "mitsubishi = Car('Mitsubishi', 'Mirage')\n",
    "\n",
    "mitsubishi.ShowCar(2014, 4, 5)\n",
    "\n"
   ]
  },
  {
   "cell_type": "markdown",
   "metadata": {
    "id": "f5nPHCf0mX3A"
   },
   "source": [
    "## Inheritance <br>\n",
    "<p>You can create a child-parent relationship between two classes by using inheritance. What this allows you to do is have overriding methods, but also inherit traits from the parent class. Think of it as an actual parent and child, the child will inherit the parent's genes, as will the classes in OOP</p>"
   ]
  },
  {
   "cell_type": "markdown",
   "metadata": {
    "id": "6TXsr9sZmX3B"
   },
   "source": [
    "##### Syntax for Inheriting from a Parent Class"
   ]
  },
  {
   "cell_type": "code",
   "execution_count": null,
   "metadata": {
    "id": "tcgFJWRTmX3B"
   },
   "outputs": [],
   "source": []
  },
  {
   "cell_type": "markdown",
   "metadata": {
    "id": "-t-6LxJ_mX3B"
   },
   "source": [
    "##### The \\__init\\__() Method for a Child Class - super()"
   ]
  },
  {
   "cell_type": "code",
   "execution_count": null,
   "metadata": {
    "id": "7gVcR8hamX3B",
    "scrolled": true
   },
   "outputs": [],
   "source": []
  },
  {
   "cell_type": "markdown",
   "metadata": {
    "id": "Y1NXKCTJmX3B"
   },
   "source": [
    "##### Defining Attributes and Methods for the Child Class"
   ]
  },
  {
   "cell_type": "code",
   "execution_count": null,
   "metadata": {
    "id": "s_cb02bYmX3B"
   },
   "outputs": [],
   "source": [
    "# See Above"
   ]
  },
  {
   "cell_type": "markdown",
   "metadata": {
    "id": "g7bkxJvimX3B"
   },
   "source": [
    "##### Method Overriding"
   ]
  },
  {
   "cell_type": "code",
   "execution_count": null,
   "metadata": {
    "id": "oyD9E2cvmX3B"
   },
   "outputs": [],
   "source": [
    "# See Above"
   ]
  },
  {
   "cell_type": "markdown",
   "metadata": {
    "id": "IvJQ-Z0kmX3B"
   },
   "source": [
    "## Classes as Attributes <br>\n",
    "<p>Classes can also be used as attributes within another class. This is useful in situations where you need to keep variables locally stored, instead of globally stored.</p>"
   ]
  },
  {
   "cell_type": "code",
   "execution_count": null,
   "metadata": {
    "id": "3SdROcFZmX3B"
   },
   "outputs": [],
   "source": []
  },
  {
   "cell_type": "markdown",
   "metadata": {
    "id": "TiZchxEDmX3C"
   },
   "source": [
    "# Exercises"
   ]
  },
  {
   "cell_type": "markdown",
   "metadata": {
    "id": "3aCEW6EdmX3C"
   },
   "source": [
    "### Exercise 1 - Turn the shopping cart program from yesterday into an object-oriented program\n",
    "\n",
    "The comments in the cell below are there as a guide for thinking about the problem. However, if you feel a different way is best for you and your own thought process, please do what feels best for you by all means."
   ]
  },
  {
   "cell_type": "code",
   "execution_count": null,
   "metadata": {
    "id": "IythHpmWi6BK"
   },
   "outputs": [],
   "source": []
  },
  {
   "cell_type": "code",
   "execution_count": 12,
   "metadata": {
    "colab": {
     "base_uri": "https://localhost:8080/"
    },
    "executionInfo": {
     "elapsed": 18725,
     "status": "ok",
     "timestamp": 1692982493916,
     "user": {
      "displayName": "Jim Povolo",
      "userId": "13260215878002411670"
     },
     "user_tz": 240
    },
    "id": "X0HI4DpUmX3C",
    "outputId": "8afcede5-7494-43f5-88a7-da73fea069a1"
   },
   "outputs": [
    {
     "name": "stdout",
     "output_type": "stream",
     "text": [
      "\n",
      "What would you like to do: Show, Add, Remove, or Quit? add\n",
      "\n",
      "What item would you like to add? veggie dogs\n",
      "Quantity? 6\n",
      "\n",
      "6 Veggie Dogs have been added to your cart\n",
      "\n",
      "What would you like to do: Show, Add, Remove, or Quit? add\n",
      "\n",
      "What item would you like to add? sweet relish\n",
      "Quantity? 1\n",
      "\n",
      "Sweet Relish has been added to your cart\n",
      "\n",
      "What would you like to do: Show, Add, Remove, or Quit? add\n",
      "\n",
      "What item would you like to add? honey mustard\n",
      "Quantity? 1\n",
      "\n",
      "Honey Mustard has been added to your cart\n",
      "\n",
      "What would you like to do: Show, Add, Remove, or Quit? add\n",
      "\n",
      "What item would you like to add? horseradish\n",
      "Quantity? 1\n",
      "\n",
      "Horseradish has been added to your cart\n",
      "\n",
      "What would you like to do: Show, Add, Remove, or Quit? show\n",
      "Items in your cart:\n",
      "6 Veggie Dogs\n",
      "1 Sweet Relish\n",
      "1 Honey Mustard\n",
      "1 Horseradish\n",
      "\n",
      "What would you like to do: Show, Add, Remove, or Quit? remove\n",
      "Items in your cart:\n",
      "6 Veggie Dogs\n",
      "1 Sweet Relish\n",
      "1 Honey Mustard\n",
      "1 Horseradish\n",
      "\n",
      "Which item would you like to remove? horseradish\n",
      "\n",
      "Horseradish has been removed from your cart\n",
      "\n",
      "What would you like to do: Show, Add, Remove, or Quit? quit\n",
      "Items in your cart:\n",
      "6 Veggie Dogs\n",
      "1 Sweet Relish\n",
      "1 Honey Mustard\n",
      "Thank you for shopping :)\n"
     ]
    }
   ],
   "source": [
    "# Create a class called cart that retains items and has methods to add, remove, and show\n",
    "\n",
    "class Cart():\n",
    "  '''\n",
    "  This class constructs Cart objects that contains items which can be added,\n",
    "  removed, or shown\n",
    "  '''\n",
    "  def __init__(self, items={}):\n",
    "    self.items = items\n",
    "\n",
    "  def going_shopping(self):\n",
    "    while True:\n",
    "      user_input = input('\\nWhat would you like to do: Show, Add, Remove, or Quit? ').lower()\n",
    "\n",
    "      if user_input == 'show':\n",
    "          self.show()\n",
    "\n",
    "      elif user_input == 'add':\n",
    "          self.add_item()\n",
    "\n",
    "      elif user_input == 'remove':\n",
    "          self.show()\n",
    "          del_input = input('\\nWhich item would you like to remove? ').title()\n",
    "          \n",
    "\n",
    "          # ensures item is in cart before deleting\n",
    "          while True:\n",
    "              if del_input in self.items:\n",
    "                  self.remove_item(del_input)\n",
    "                  break\n",
    "              else:\n",
    "                  del_input = input('\\nEnter exact item name please: ').title()\n",
    "                  if user_input == 'quit':\n",
    "                    break\n",
    "\n",
    "      elif user_input == 'quit':\n",
    "          self.show()\n",
    "          print('Thank you for shopping :)')\n",
    "          break\n",
    "\n",
    "  def add_item(self):\n",
    "      item = input('\\nWhat item would you like to add? ').title()\n",
    "      quantity = input('Quantity? ')\n",
    "      self.items[item] = quantity\n",
    "      if int(quantity) > 1:\n",
    "          print(f\"\\n{quantity} {item} have been added to your cart\")\n",
    "      else:\n",
    "          print(f\"\\n{item} has been added to your cart\")\n",
    "\n",
    "  def remove_item(self, item):\n",
    "      del self.items[item]\n",
    "      print(f\"\\n{item} has been removed from your cart\")\n",
    "\n",
    "  def show(self):\n",
    "    if self.items == {}:\n",
    "            print(\"Your cart is empty\")\n",
    "    else:\n",
    "        print(\"Items in your cart:\")\n",
    "        for item, quantity in self.items.items():\n",
    "            print(f\"{quantity} {item}\")\n",
    "\n",
    "new_cart = Cart()\n",
    "new_cart.going_shopping()"
   ]
  },
  {
   "cell_type": "markdown",
   "metadata": {
    "id": "475LUWIGmX3C"
   },
   "source": [
    "### Exercise 2 - Write a Python class which has two methods get_String and print_String. get_String accept a string from the user and print_String print the string in upper case"
   ]
  },
  {
   "cell_type": "code",
   "execution_count": 14,
   "metadata": {
    "id": "uYMS_M7VmX3C"
   },
   "outputs": [
    {
     "name": "stdout",
     "output_type": "stream",
     "text": [
      "What would you like to say? \n",
      "oOo watcha say??\n",
      "OOO WATCHA SAY??\n"
     ]
    }
   ],
   "source": [
    "class Stringy():\n",
    "  def __init__(self):\n",
    "    pass\n",
    "\n",
    "  def get_String(self):\n",
    "    self.string = input('What would you like to say? \\n')\n",
    "    # return self.string  -- seems unnecessary\n",
    "\n",
    "  def print_String(self):\n",
    "    print(self.string.upper())\n",
    "\n",
    "string_1 = Stringy()\n",
    "Stringy.get_String(string_1)\n",
    "Stringy.print_String(string_1)\n"
   ]
  }
 ],
 "metadata": {
  "colab": {
   "provenance": []
  },
  "kernelspec": {
   "display_name": "Python 3 (ipykernel)",
   "language": "python",
   "name": "python3"
  },
  "language_info": {
   "codemirror_mode": {
    "name": "ipython",
    "version": 3
   },
   "file_extension": ".py",
   "mimetype": "text/x-python",
   "name": "python",
   "nbconvert_exporter": "python",
   "pygments_lexer": "ipython3",
   "version": "3.10.9"
  }
 },
 "nbformat": 4,
 "nbformat_minor": 1
}
